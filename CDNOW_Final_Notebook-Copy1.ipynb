{
 "cells": [
  {
   "cell_type": "markdown",
   "id": "d12c5839",
   "metadata": {},
   "source": [
    "# Importing the necessary libraries"
   ]
  },
  {
   "cell_type": "code",
   "execution_count": null,
   "id": "5103eeeb",
   "metadata": {},
   "outputs": [],
   "source": [
    "import warnings\n",
    "warnings.filterwarnings('ignore')\n",
    "import pandas as pd\n",
    "from zipfile import ZipFile\n",
    "# !pip install plotly\n",
    "import plotly.graph_objects as go\n",
    "import numpy as np\n",
    "import matplotlib.pyplot as plt\n",
    "import datetime as dt\n",
    "import seaborn as sns\n",
    "from sklearn.preprocessing import StandardScaler\n",
    "from sklearn.preprocessing import RobustScaler\n",
    "from sklearn.cluster import KMeans\n",
    "import plotnine as pn\n",
    "import plydata.cat_tools as cat\n",
    "# machine learning\n",
    "from xgboost import XGBClassifier, XGBRegressor\n",
    "from sklearn.model_selection import cross_val_score, GridSearchCV\n",
    "from sklearn.linear_model import LinearRegression\n",
    "from sklearn.preprocessing import StandardScaler\n",
    "from sklearn.ensemble import RandomForestRegressor\n",
    "from sklearn.linear_model import LogisticRegression\n",
    "from sklearn.ensemble import RandomForestClassifier\n",
    "# Importing the lifetimes package\n",
    "import lifetimes\n",
    "from sklearn.metrics import mean_absolute_error"
   ]
  },
  {
   "cell_type": "markdown",
   "id": "821eab4a",
   "metadata": {},
   "source": [
    "# Loading the Data"
   ]
  },
  {
   "cell_type": "code",
   "execution_count": null,
   "id": "cf7e86e2",
   "metadata": {},
   "outputs": [],
   "source": [
    "# Laoding the data into a dataframe.\n",
    "CDNOW_DATA = pd.read_csv(\"Data/CDNOW_master.txt\", sep='\\s+')\n",
    "CDNOW_DATA.shape"
   ]
  },
  {
   "cell_type": "code",
   "execution_count": null,
   "id": "3c40e999",
   "metadata": {},
   "outputs": [],
   "source": [
    "CDNOW_DATA.head() # Looking at the top 5 rows of the dataframe."
   ]
  },
  {
   "cell_type": "markdown",
   "id": "c7ba71a6",
   "metadata": {},
   "source": [
    "# Data Cleaning"
   ]
  },
  {
   "cell_type": "code",
   "execution_count": null,
   "id": "4e496cdb",
   "metadata": {},
   "outputs": [],
   "source": [
    "CDNOW_DATA.info() # info() gives us the number of non null values and the data type of each column."
   ]
  },
  {
   "cell_type": "code",
   "execution_count": null,
   "id": "138c68af",
   "metadata": {},
   "outputs": [],
   "source": [
    "CDNOW_DATA.columns = [\"CustomerID\", \"TransactionDate\", \"UnitsSold\", \"Price\"] # Assigning the column names to the data frame."
   ]
  },
  {
   "cell_type": "code",
   "execution_count": null,
   "id": "36fd7cb0",
   "metadata": {},
   "outputs": [],
   "source": [
    "CDNOW_DATA[\"CustomerID\"] = CDNOW_DATA[\"CustomerID\"].astype(str) # changing the datatype of the CustomerID to string."
   ]
  },
  {
   "cell_type": "code",
   "execution_count": null,
   "id": "3ea9335f",
   "metadata": {},
   "outputs": [],
   "source": [
    "# changing the datatye of the TransactionDate column to datetime.\n",
    "CDNOW_DATA['TransactionDate'] = CDNOW_DATA['TransactionDate'].apply(lambda x: pd.to_datetime(str(x), format='%Y-%m-%d'))"
   ]
  },
  {
   "cell_type": "code",
   "execution_count": null,
   "id": "29eacd85",
   "metadata": {},
   "outputs": [],
   "source": [
    "CDNOW_DATA.head()  # Looking at the top 5 rows of the dataframe."
   ]
  },
  {
   "cell_type": "markdown",
   "id": "b0d3a06f",
   "metadata": {},
   "source": [
    "# Descriptive Analytics"
   ]
  },
  {
   "cell_type": "code",
   "execution_count": null,
   "id": "75c977ce",
   "metadata": {
    "scrolled": false
   },
   "outputs": [],
   "source": [
    "CDNOW_DATA.describe() # looking at the min, max, mean, standard deviation and quartile values of the numerical values."
   ]
  },
  {
   "cell_type": "code",
   "execution_count": null,
   "id": "00511f27",
   "metadata": {},
   "outputs": [],
   "source": [
    "np.median(CDNOW_DATA[\"Price\"])"
   ]
  },
  {
   "cell_type": "code",
   "execution_count": null,
   "id": "7043eb16",
   "metadata": {},
   "outputs": [],
   "source": [
    "CDNOW_DATA[CDNOW_DATA[\"CustomerID\"].duplicated()][\"CustomerID\"].nunique()"
   ]
  },
  {
   "cell_type": "code",
   "execution_count": null,
   "id": "a36a67be",
   "metadata": {},
   "outputs": [],
   "source": [
    "# First Transaction Date\n",
    "CDNOW_DATA[\"TransactionDate\"].min()"
   ]
  },
  {
   "cell_type": "code",
   "execution_count": null,
   "id": "7e3122d9",
   "metadata": {},
   "outputs": [],
   "source": [
    "# Last Transaction Date\n",
    "CDNOW_DATA[\"TransactionDate\"].max()"
   ]
  },
  {
   "cell_type": "code",
   "execution_count": null,
   "id": "09669eb3",
   "metadata": {},
   "outputs": [],
   "source": [
    "# NUmber of Unique Customers\n",
    "CDNOW_DATA[\"CustomerID\"].nunique()"
   ]
  },
  {
   "cell_type": "code",
   "execution_count": null,
   "id": "b8a2b963",
   "metadata": {},
   "outputs": [],
   "source": [
    "# Total Revenue.\n",
    "CDNOW_DATA[\"Price\"].sum()"
   ]
  },
  {
   "cell_type": "markdown",
   "id": "567e5b2c",
   "metadata": {},
   "source": [
    "### Customers with highest number of Transactions"
   ]
  },
  {
   "cell_type": "code",
   "execution_count": null,
   "id": "e47177d0",
   "metadata": {},
   "outputs": [],
   "source": [
    "# Grouping the data to create a dataframe with CustomerID and number of transactions that customer made.\n",
    "NO_OF_TRANSACTIONS = CDNOW_DATA.groupby(\"CustomerID\")[\"UnitsSold\"].count() \\\n",
    "                                        .reset_index().sort_values(\"UnitsSold\", ascending = False) \\\n",
    "                                        .rename(columns = {\"UnitsSold\" : \"NO_OF_TRANSACTIONS\"}) \\\n",
    "                                        .reset_index(drop = True) \n",
    "\n",
    "\n",
    "TOP_10_HIGHEST_TRANSACTIONS = NO_OF_TRANSACTIONS.iloc[:10, :2] # slicing to get just the 10 rows worth of data.\n",
    "TOP_10_HIGHEST_TRANSACTIONS[\"CustomerID\"] = TOP_10_HIGHEST_TRANSACTIONS[\"CustomerID\"].astype(\"str\")\n",
    "TOP_10_HIGHEST_TRANSACTIONS.shape"
   ]
  },
  {
   "cell_type": "code",
   "execution_count": null,
   "id": "7337b3ba",
   "metadata": {
    "scrolled": true
   },
   "outputs": [],
   "source": [
    "# plt.bar() function is used for plotting the bar plot.\n",
    "# plt.ylabel() function is used for labelling the Y-axis.\n",
    "# plt.xlabel() function is used for labelling the X-axis.\n",
    "# plt.title() function is used for setting the title for the plot.\n",
    "# plt.legend() function is used for setting the legend for the plot\n",
    "# plt.show() function is used for displaying the plot.\n",
    "\n",
    "        \n",
    "#declaring the legend for the plot.\n",
    "colors = {'CUSTOMER WITH HIGHEST NUMBER OF TRANSACTIONS':'green'}         \n",
    "labels = list(colors.keys())\n",
    "handles = [plt.Rectangle((0,0),1,1, color=colors[label]) for label in labels]\n",
    "plt.legend(handles, labels, bbox_to_anchor=(1.05, 1))\n",
    "\n",
    "clrs1=[]\n",
    "# declaring the colors of the bar plot's bars.\n",
    "for i in TOP_10_HIGHEST_TRANSACTIONS['NO_OF_TRANSACTIONS']:\n",
    "    if(i==max(TOP_10_HIGHEST_TRANSACTIONS['NO_OF_TRANSACTIONS'])):\n",
    "        clrs1.append('green')\n",
    "    else:\n",
    "        clrs1.append('blue')\n",
    "        \n",
    "\n",
    "#Plot\n",
    "bar_plot=plt.bar(TOP_10_HIGHEST_TRANSACTIONS['CustomerID'], TOP_10_HIGHEST_TRANSACTIONS['NO_OF_TRANSACTIONS'], color=clrs1)\n",
    "plt.title('10 CUSTOMERS WITH HIGHEST TRANSACTIONS', pad =25,fontweight='bold', fontname=\"Times New Roman\", style='italic')\n",
    "plt.ylabel('NUMBER OF TRANSACTIONS', fontweight='bold', color = 'Black', verticalalignment='center', labelpad=30, fontname=\"Times New Roman\", style='italic') # ylabel function is used for labelling the Y-axis.\n",
    "plt.xlabel('CUSTOMER ID',fontweight='bold', color = 'Black', horizontalalignment='center', labelpad=30, fontname=\"Times New Roman\", style='italic') # xlabel function is used for labelling the X-axis.\n",
    "plt.xticks(rotation='vertical')\n",
    "\n",
    "\n",
    "plt.show()"
   ]
  },
  {
   "cell_type": "code",
   "execution_count": null,
   "id": "caba4c93",
   "metadata": {},
   "outputs": [],
   "source": [
    "MONTHLY_INCOME = pd.DataFrame(CDNOW_DATA.set_index('TransactionDate')[\"Price\"].resample(\"M\").sum())\n",
    "MONTHLY_INCOME.head()"
   ]
  },
  {
   "cell_type": "code",
   "execution_count": null,
   "id": "7a68e941",
   "metadata": {},
   "outputs": [],
   "source": [
    "# Plotting the bar plot of Transaction_data and Price.\n",
    "\n",
    "fig = go.Figure([go.Scatter(x=MONTHLY_INCOME.index, y=MONTHLY_INCOME['Price'])])\n",
    "fig.update_layout(\n",
    "    title=\"MONTHLY INCOME\",\n",
    "    xaxis_title=\"DATE\",\n",
    "    yaxis_title=\"INCOME\",\n",
    "    font=dict(\n",
    "        family=\"Courier New, monospace\",\n",
    "        size=18,\n",
    "        color=\"#7f7f7f\"\n",
    "    ),\n",
    ")\n",
    "fig.show()\n",
    "# Reference:\n",
    "# https://plotly.com/python/time-series/\n",
    "# https://plotly.com/python/reference/layout/"
   ]
  },
  {
   "cell_type": "markdown",
   "id": "d60f4a5d",
   "metadata": {},
   "source": [
    "### Cohort Analysis"
   ]
  },
  {
   "cell_type": "code",
   "execution_count": null,
   "id": "cc24b8c5",
   "metadata": {},
   "outputs": [],
   "source": [
    "# Customers first transaction. Considering the first transaction of the customers as a subset to perfrom our analysis.\n",
    "CDNOW_FIRST_TRANSACTION = CDNOW_DATA.sort_values([\"CustomerID\", \"TransactionDate\"]) \\\n",
    "                               .groupby(\"CustomerID\").first()\n",
    "CDNOW_FIRST_TRANSACTION.shape"
   ]
  },
  {
   "cell_type": "code",
   "execution_count": null,
   "id": "a338bfe7",
   "metadata": {},
   "outputs": [],
   "source": [
    "# first new customer.\n",
    "CDNOW_FIRST_TRANSACTION[\"TransactionDate\"].min()"
   ]
  },
  {
   "cell_type": "code",
   "execution_count": null,
   "id": "1108b2bd",
   "metadata": {},
   "outputs": [],
   "source": [
    "# last new customer\n",
    "CDNOW_FIRST_TRANSACTION[\"TransactionDate\"].max()"
   ]
  },
  {
   "cell_type": "code",
   "execution_count": null,
   "id": "fa6466b1",
   "metadata": {},
   "outputs": [],
   "source": [
    "# GETTING THE UNIQUE CUSTOMERS ID's\n",
    "IDs = CDNOW_DATA['CustomerID'].unique()\n",
    "IDs_SAMPLE = IDs[0:10]"
   ]
  },
  {
   "cell_type": "code",
   "execution_count": null,
   "id": "cdd35a7f",
   "metadata": {},
   "outputs": [],
   "source": [
    "# Creating a subset of the dataset with ten unique customer IDs\n",
    "CDNOW_SUBSET = CDNOW_DATA[CDNOW_DATA['CustomerID'].isin(IDs_SAMPLE)].groupby(['CustomerID', 'TransactionDate']).sum().reset_index()\n",
    "CDNOW_SUBSET.head()"
   ]
  },
  {
   "cell_type": "code",
   "execution_count": null,
   "id": "ba0c5bd1",
   "metadata": {
    "scrolled": true
   },
   "outputs": [],
   "source": [
    "# Frequency plot of the ten unique customers, with the price and date of each transaction.\n",
    "pn.ggplot(pn.aes('TransactionDate', 'Price', group = 'CustomerID'), data = CDNOW_SUBSET) + pn.geom_line() +pn.geom_point() +pn.facet_wrap('CustomerID') +pn.scale_x_date(date_breaks = '1 year', date_lables = '%Y')"
   ]
  },
  {
   "cell_type": "markdown",
   "id": "5df12156",
   "metadata": {},
   "source": [
    "# Customer Segmentation <br> <i> RFM analysis</i>"
   ]
  },
  {
   "cell_type": "markdown",
   "id": "75f988d7",
   "metadata": {},
   "source": [
    "### Recency"
   ]
  },
  {
   "cell_type": "code",
   "execution_count": null,
   "id": "290d3663",
   "metadata": {},
   "outputs": [],
   "source": [
    "# MOST RECENT TRANSACTIONS OF THE CUSTOMERS \n",
    "# RFM (\"R\": Recency)\n",
    "\n",
    "CDNOW_Recency = CDNOW_DATA.groupby('CustomerID', as_index=False)['TransactionDate'].max()\n",
    "CDNOW_Recency.columns = ['CustomerID', 'LAST_TransactionDate']\n",
    "RECENT_TransactionDate = CDNOW_Recency['LAST_TransactionDate'].max()\n",
    "CDNOW_Recency['Recency'] = CDNOW_Recency['LAST_TransactionDate'].apply(lambda x: (RECENT_TransactionDate - x).days)\n",
    "CDNOW_Recency.head()"
   ]
  },
  {
   "cell_type": "code",
   "execution_count": null,
   "id": "5bf86c26",
   "metadata": {},
   "outputs": [],
   "source": [
    "CDNOW_Recency[\"Recency\"].describe() # Gives the min, max and mean values of the Recency."
   ]
  },
  {
   "cell_type": "markdown",
   "id": "97962190",
   "metadata": {},
   "source": [
    "### Frequency"
   ]
  },
  {
   "cell_type": "code",
   "execution_count": null,
   "id": "dd154344",
   "metadata": {},
   "outputs": [],
   "source": [
    "# CALCULACTING THE Frequency OF THE CUSTOMERS\n",
    "# RFM (\"F\": Frequency)\n",
    "\n",
    "CDNOW_Frequency = CDNOW_DATA.drop_duplicates().groupby('CustomerID', as_index=False)['TransactionDate'].count()\n",
    "CDNOW_Frequency.columns = ['CustomerID', 'Frequency']\n",
    "CDNOW_Frequency.head()"
   ]
  },
  {
   "cell_type": "code",
   "execution_count": null,
   "id": "65f4d0ca",
   "metadata": {},
   "outputs": [],
   "source": [
    "CDNOW_Frequency[\"Frequency\"].describe() # Gives the min, max and mean values of the Frequency."
   ]
  },
  {
   "cell_type": "markdown",
   "id": "4e12134d",
   "metadata": {},
   "source": [
    "### Monetary"
   ]
  },
  {
   "cell_type": "code",
   "execution_count": null,
   "id": "000ee2ab",
   "metadata": {},
   "outputs": [],
   "source": [
    "# CALCULATING THE Monetary VALUE OF CUSTOMER SPEND ON PURCHASING CD's FROM THE CDNOW STORE.\n",
    "# RFM (\"M\": Monetary)\n",
    "\n",
    "CDNOW_Monetary = CDNOW_DATA.groupby('CustomerID', as_index=False)['Price'].sum()\n",
    "CDNOW_Monetary.columns = ['CustomerID', 'Monetary']\n",
    "CDNOW_Monetary.head()"
   ]
  },
  {
   "cell_type": "code",
   "execution_count": null,
   "id": "a6892d4a",
   "metadata": {},
   "outputs": [],
   "source": [
    "CDNOW_Monetary[\"Monetary\"].describe() # Gives the min, max and mean values of the Monetary."
   ]
  },
  {
   "cell_type": "markdown",
   "id": "1e3320bf",
   "metadata": {},
   "source": [
    "### RFM"
   ]
  },
  {
   "cell_type": "code",
   "execution_count": null,
   "id": "ca827284",
   "metadata": {},
   "outputs": [],
   "source": [
    "# MERGING Recency Frequency AND Monetary\n",
    "CDNOW_RF = CDNOW_Recency.merge(CDNOW_Frequency, on='CustomerID')\n",
    "CDNOW_RFM = CDNOW_RF.merge(CDNOW_Monetary, on='CustomerID').drop(columns='LAST_TransactionDate')\n",
    "CDNOW_RFM.head()"
   ]
  },
  {
   "cell_type": "code",
   "execution_count": null,
   "id": "c43c7fef",
   "metadata": {},
   "outputs": [],
   "source": [
    "plt.rcParams.update(plt.rcParamsDefault)\n",
    "fig, axes = plt.subplots(1,3, figsize=(18, 5))\n",
    "sns.distplot(CDNOW_RFM[\"Recency\"], ax = axes[0])\n",
    "sns.distplot(CDNOW_RFM[\"Frequency\"], ax = axes[1])\n",
    "sns.distplot(CDNOW_RFM[\"Monetary\"], ax = axes[2])\n",
    "plt.show()\n",
    "\n",
    "# From the plots below we can see that the data has skewness and we need to normalize the data."
   ]
  },
  {
   "cell_type": "code",
   "execution_count": null,
   "id": "bcf53a9e",
   "metadata": {},
   "outputs": [],
   "source": [
    "fig, axes = plt.subplots(1,3, figsize=(18, 5))\n",
    "sns.boxplot(x = CDNOW_RFM[\"Recency\"], ax = axes[0])\n",
    "sns.boxplot(x = CDNOW_RFM[\"Frequency\"], ax = axes[1])\n",
    "sns.boxplot(x = CDNOW_RFM[\"Monetary\"], ax = axes[2])\n",
    "plt.show()\n",
    "# From looking at the plot below we say that the data has some outliers."
   ]
  },
  {
   "cell_type": "markdown",
   "id": "6f2a334b",
   "metadata": {},
   "source": [
    "### Robust Scaler"
   ]
  },
  {
   "cell_type": "code",
   "execution_count": null,
   "id": "fcc99fdb",
   "metadata": {},
   "outputs": [],
   "source": [
    "# Normalizing the data using Robust Scalar to deal with the coutliers.\n",
    "scaler = RobustScaler()\n",
    "scaler.fit(CDNOW_RFM[['Recency', 'Frequency', 'Monetary']])\n",
    "CDNOW_RFM[['Recency_NORM', 'Frequency_NORM', 'Monetary_NORM']] = scaler.transform(CDNOW_RFM[['Recency', 'Frequency', 'Monetary']])"
   ]
  },
  {
   "cell_type": "code",
   "execution_count": null,
   "id": "594c8c82",
   "metadata": {},
   "outputs": [],
   "source": [
    "fig, axes = plt.subplots(1,3, figsize=(18, 5))\n",
    "sns.distplot(CDNOW_RFM[\"Recency_NORM\"], ax = axes[0])\n",
    "sns.distplot(CDNOW_RFM[\"Frequency_NORM\"], ax = axes[1])\n",
    "sns.distplot(CDNOW_RFM[\"Monetary_NORM\"], ax = axes[2])\n",
    "plt.show()\n"
   ]
  },
  {
   "cell_type": "markdown",
   "id": "a3cf3627",
   "metadata": {},
   "source": [
    "### K-means for customer segmentation."
   ]
  },
  {
   "cell_type": "code",
   "execution_count": null,
   "id": "6c61a00e",
   "metadata": {},
   "outputs": [],
   "source": [
    "# Using the Unsupervised Learning to cluster the customers into segemets\n",
    "\n",
    "cluster_range = range( 1, 10 )\n",
    "cluster_errors = {\"R_cluster_errors\":[], \"F_cluster_errors\":[], \"M_cluster_errors\":[]}\n",
    "\n",
    "# Identifing the optimal number of clusters using telbow curve.\n",
    "for num_clusters in cluster_range:\n",
    "    R_clusters = KMeans(num_clusters)\n",
    "    F_clusters = KMeans(num_clusters)\n",
    "    M_clusters = KMeans(num_clusters)\n",
    "    R_clusters.fit(CDNOW_RFM[['Recency_NORM']])\n",
    "    F_clusters.fit(CDNOW_RFM[['Frequency_NORM']])\n",
    "    M_clusters.fit(CDNOW_RFM[['Monetary_NORM']])\n",
    "    cluster_errors[\"R_cluster_errors\"].append(R_clusters.inertia_)\n",
    "    cluster_errors[\"F_cluster_errors\"].append(F_clusters.inertia_)\n",
    "    cluster_errors[\"M_cluster_errors\"].append(M_clusters.inertia_)\n",
    "    "
   ]
  },
  {
   "cell_type": "code",
   "execution_count": null,
   "id": "f5981113",
   "metadata": {},
   "outputs": [],
   "source": [
    "# Creating a dataframe of the Cluster Errors to find the optimal Cluster threshold.\n",
    "CLUSTER_ERRORS_DF = pd.DataFrame({\"NO_OF_CLUSTERS\":cluster_range, \"R_CLUSTER_ERRORS\": cluster_errors[\"R_cluster_errors\"], \n",
    "                                  \"F_CLUSTER_ERRORS\": cluster_errors[\"F_cluster_errors\"], \n",
    "                                 \"M_CLUSTER_ERRORS\": cluster_errors[\"M_cluster_errors\"]})"
   ]
  },
  {
   "cell_type": "code",
   "execution_count": null,
   "id": "c200fb59",
   "metadata": {},
   "outputs": [],
   "source": [
    "CLUSTER_ERRORS_DF"
   ]
  },
  {
   "cell_type": "code",
   "execution_count": null,
   "id": "e21faff7",
   "metadata": {},
   "outputs": [],
   "source": [
    "# plotting the line graph to picture the elbow curve and determine the optimal number of clusters.\n",
    "plt.rcParams.update(plt.rcParamsDefault)\n",
    "fig, axes = plt.subplots(1,3, figsize=(18, 5))\n",
    "axes[0].plot( CLUSTER_ERRORS_DF.NO_OF_CLUSTERS, CLUSTER_ERRORS_DF.R_CLUSTER_ERRORS, marker = \"o\", axes = axes[0])\n",
    "axes[0].set_title(\"Recency\")\n",
    "axes[0].set_xlabel(\"Number of clusters\")\n",
    "axes[0].set_ylabel(\"Cluster Error\")\n",
    "axes[1].plot( CLUSTER_ERRORS_DF.NO_OF_CLUSTERS, CLUSTER_ERRORS_DF.F_CLUSTER_ERRORS, marker = \"o\", axes = axes[1])\n",
    "axes[1].set_title(\"Frequency\")\n",
    "axes[1].set_xlabel(\"Number of clusters\")\n",
    "axes[1].set_ylabel(\"Cluster Error\")\n",
    "axes[2].plot( CLUSTER_ERRORS_DF.NO_OF_CLUSTERS, CLUSTER_ERRORS_DF.M_CLUSTER_ERRORS, marker = \"o\", axes = axes[2])\n",
    "axes[2].set_title(\"Monetary\")\n",
    "axes[2].set_xlabel(\"Number of clusters\")\n",
    "axes[2].set_ylabel(\"Cluster Error\")\n",
    "plt.subplots_adjust(left  = 0.05,\n",
    "right = 0.9,\n",
    "bottom = 0.1,\n",
    "top = 0.9,\n",
    "wspace = 0.2,\n",
    "hspace = 1)\n",
    "plt.show()\n",
    "\n",
    "# From the Elbow Curves below:\n",
    "# FOR Recency_NORM optimal clusters = 3\n",
    "# FOR Frequency_NORM optimal clusters = 4\n",
    "# FOR Monetary_NORM optimal clusters = 4"
   ]
  },
  {
   "cell_type": "markdown",
   "id": "b0d75fd4",
   "metadata": {},
   "source": [
    "### K-means"
   ]
  },
  {
   "cell_type": "code",
   "execution_count": null,
   "id": "f24bf321",
   "metadata": {},
   "outputs": [],
   "source": [
    "# Creating the clusters.\n",
    "\n",
    "R_clusters_Optimized = KMeans(3, random_state=42)\n",
    "F_clusters_Optimized = KMeans(4, random_state=42)\n",
    "M_clusters_Optimized = KMeans(4, random_state=42)"
   ]
  },
  {
   "cell_type": "code",
   "execution_count": null,
   "id": "e91ddce2",
   "metadata": {},
   "outputs": [],
   "source": [
    "# fitting the data\n",
    "R_clusters_Optimized.fit(CDNOW_RFM[['Recency_NORM']])\n",
    "F_clusters_Optimized.fit(CDNOW_RFM[['Frequency_NORM']])\n",
    "M_clusters_Optimized.fit(CDNOW_RFM[['Monetary_NORM']])"
   ]
  },
  {
   "cell_type": "code",
   "execution_count": null,
   "id": "2ed4982b",
   "metadata": {},
   "outputs": [],
   "source": [
    "# Storing the output/labels of the datapoints.\n",
    "CDNOW_RFM[\"R_CLUSTER\"] = R_clusters_Optimized.labels_\n",
    "CDNOW_RFM[\"F_CLUSTER\"] = F_clusters_Optimized.labels_\n",
    "CDNOW_RFM[\"M_CLUSTER\"] = M_clusters_Optimized.labels_"
   ]
  },
  {
   "cell_type": "code",
   "execution_count": null,
   "id": "d727045f",
   "metadata": {},
   "outputs": [],
   "source": [
    "# Count plots to see the count of datapoints in each cluster.\n",
    "sns.countplot(CDNOW_RFM[\"R_CLUSTER\"])\n",
    "plt.show()"
   ]
  },
  {
   "cell_type": "code",
   "execution_count": null,
   "id": "494e237f",
   "metadata": {},
   "outputs": [],
   "source": [
    "# Count plots to see the count of datapoints in each cluster.\n",
    "sns.countplot(CDNOW_RFM[\"F_CLUSTER\"])\n",
    "plt.show()"
   ]
  },
  {
   "cell_type": "code",
   "execution_count": null,
   "id": "4a247ec4",
   "metadata": {},
   "outputs": [],
   "source": [
    "# Count plots to see the count of datapoints in each cluster.\n",
    "sns.countplot(CDNOW_RFM[\"M_CLUSTER\"])\n",
    "plt.show()"
   ]
  },
  {
   "cell_type": "code",
   "execution_count": null,
   "id": "76d2db75",
   "metadata": {},
   "outputs": [],
   "source": [
    "CDNOW_RFM.head() # looking at the cluster values."
   ]
  },
  {
   "cell_type": "code",
   "execution_count": null,
   "id": "e7b97197",
   "metadata": {},
   "outputs": [],
   "source": [
    "# For a Customer to be a High-Value Customer, the customers:\n",
    "# Recency should be low\n",
    "# Frequency should be high\n",
    "# Monetary Value should be high\n",
    "CDNOW_RFM.sort_values('Recency_NORM', ascending = True, inplace = True)\n",
    "CDNOW_RFM.sort_values('Frequency_NORM', ascending = False, inplace = True)\n",
    "CDNOW_RFM.sort_values('Monetary_NORM', ascending = False, inplace = True)\n",
    "CDNOW_RFM.head()"
   ]
  },
  {
   "cell_type": "code",
   "execution_count": null,
   "id": "bc9edf7f",
   "metadata": {},
   "outputs": [],
   "source": [
    "# Creating the final cluster using the independent clusters.\n",
    "CDNOW_RFM[\"FinalCluster\"] = CDNOW_RFM[\"R_CLUSTER\"] + CDNOW_RFM[\"F_CLUSTER\"] + CDNOW_RFM[\"M_CLUSTER\"]\n",
    "CDNOW_RFM.reset_index(inplace = True, drop = True)"
   ]
  },
  {
   "cell_type": "code",
   "execution_count": null,
   "id": "b12bd74a",
   "metadata": {},
   "outputs": [],
   "source": [
    "CDNOW_RFM.head()"
   ]
  },
  {
   "cell_type": "code",
   "execution_count": null,
   "id": "30d1d94e",
   "metadata": {},
   "outputs": [],
   "source": [
    "CDNOW_RFM.tail()"
   ]
  },
  {
   "cell_type": "code",
   "execution_count": null,
   "id": "b1698f37",
   "metadata": {},
   "outputs": [],
   "source": [
    "plt.plot(CDNOW_RFM.index, CDNOW_RFM[\"FinalCluster\"])\n",
    "plt.show()"
   ]
  },
  {
   "cell_type": "code",
   "execution_count": null,
   "id": "dad6a811",
   "metadata": {},
   "outputs": [],
   "source": [
    "# Naming the clusters.\n",
    "\n",
    "CDNOW_RFM['Segment'] = 'Lost Customer'\n",
    "CDNOW_RFM.loc[CDNOW_RFM['FinalCluster']==1,'Segment'] = 'Low-Value' \n",
    "CDNOW_RFM.loc[CDNOW_RFM['FinalCluster'] == 2,'Segment'] = 'Mid-Value'\n",
    "CDNOW_RFM.loc[CDNOW_RFM['FinalCluster']>2,'Segment'] = 'High-Value'\n",
    "CDNOW_RFM.loc[CDNOW_RFM['FinalCluster']>5,'Segment'] = 'Top Customer'"
   ]
  },
  {
   "cell_type": "code",
   "execution_count": null,
   "id": "534a4eb8",
   "metadata": {},
   "outputs": [],
   "source": [
    "sns.countplot(CDNOW_RFM['Segment'], order= ['Lost Customer','Low-Value' ,'Mid-Value','High-Value','Top Customer'])\n",
    "plt.title(\"RFM Segmentation of CDNOW dataset\")\n",
    "plt.show()"
   ]
  },
  {
   "cell_type": "code",
   "execution_count": null,
   "id": "62d2f115",
   "metadata": {},
   "outputs": [],
   "source": [
    "CDNOW_RFM.to_csv(\"CDNOW_CustomerSegmentation.csv\", index = False)"
   ]
  },
  {
   "cell_type": "markdown",
   "id": "6ce43141",
   "metadata": {},
   "source": [
    "# Machine Learning Modelling"
   ]
  },
  {
   "cell_type": "markdown",
   "id": "a36ad7fe",
   "metadata": {},
   "source": [
    "### Feature Engineering"
   ]
  },
  {
   "cell_type": "code",
   "execution_count": null,
   "id": "ff8782b1",
   "metadata": {},
   "outputs": [],
   "source": [
    "n_days = 90 # The no of days for which we want to predict CLV.\n",
    "max_date = CDNOW_DATA['TransactionDate'].max() # Getting the max transaction date.\n",
    "cutoff = max_date - pd.to_timedelta(n_days, unit = 'd') # Creating a cut off to exclude the last 90 days."
   ]
  },
  {
   "cell_type": "code",
   "execution_count": null,
   "id": "198f092c",
   "metadata": {},
   "outputs": [],
   "source": [
    "IN_DATA = CDNOW_DATA[CDNOW_DATA['TransactionDate'] <= cutoff] # Excluding the last 90 days.\n",
    "OUT_DATA = CDNOW_DATA[CDNOW_DATA['TransactionDate'] > cutoff] # Just the last 90 days data."
   ]
  },
  {
   "cell_type": "code",
   "execution_count": null,
   "id": "3a63b111",
   "metadata": {},
   "outputs": [],
   "source": [
    "# making targets from out data\n",
    "TARGET_DATA = OUT_DATA.drop('UnitsSold', axis = 1).groupby('CustomerID').sum().rename({'Price':'spend_90_total'}, axis = 1).assign(spend_90_flag = 1)\n",
    "TARGET_DATA.head()"
   ]
  },
  {
   "cell_type": "code",
   "execution_count": null,
   "id": "a5631b82",
   "metadata": {},
   "outputs": [],
   "source": [
    "# make recency (date) features from in data\n",
    "max_date = IN_DATA['TransactionDate'].max()"
   ]
  },
  {
   "cell_type": "code",
   "execution_count": null,
   "id": "4e003aa5",
   "metadata": {},
   "outputs": [],
   "source": [
    "# Getting the recency data to include that as feature for ML modelling\n",
    "recency_features_df = IN_DATA[['CustomerID', 'TransactionDate']].groupby('CustomerID').apply(lambda x: (x['TransactionDate'].max() - max_date)/ pd.to_timedelta(1, 'day')).to_frame().set_axis(['recency'], axis = 1)\n",
    "recency_features_df.head()"
   ]
  },
  {
   "cell_type": "code",
   "execution_count": null,
   "id": "c93911e0",
   "metadata": {},
   "outputs": [],
   "source": [
    "# make frequency (count features from in data)\n",
    "frequency_features_df = IN_DATA[['CustomerID', 'TransactionDate']].groupby('CustomerID').count().set_axis(['frequency'], axis = 1)\n",
    "frequency_features_df.head()"
   ]
  },
  {
   "cell_type": "code",
   "execution_count": null,
   "id": "718923dc",
   "metadata": {},
   "outputs": [],
   "source": [
    "# make price (monitery features from in data)\n",
    "price_features_df = IN_DATA.groupby('CustomerID').aggregate({'Price':['sum', 'mean']}).set_axis(['price_sum', 'price_mean'], axis = 1)\n",
    "price_features_df.head()"
   ]
  },
  {
   "cell_type": "code",
   "execution_count": null,
   "id": "bd632e5d",
   "metadata": {},
   "outputs": [],
   "source": [
    "# combine features\n",
    "features_df = pd.concat([recency_features_df, frequency_features_df, price_features_df], axis = 1).merge(TARGET_DATA, left_index = True, right_index = True, how = 'left').fillna(0)\n",
    "features_df.head()"
   ]
  },
  {
   "cell_type": "markdown",
   "id": "60f2aaa3",
   "metadata": {},
   "source": [
    "### Regression\n",
    "> How much will the customers spend in the next 90 days?"
   ]
  },
  {
   "cell_type": "markdown",
   "id": "b8d78f26",
   "metadata": {},
   "source": [
    "### XGBOOST"
   ]
  },
  {
   "cell_type": "code",
   "execution_count": null,
   "id": "8a4f6fef",
   "metadata": {},
   "outputs": [],
   "source": [
    "X = features_df[['recency', 'frequency', 'price_sum', 'price_mean']]\n",
    "# next 90 days spend prediction\n",
    "y_spend = features_df['spend_90_total']"
   ]
  },
  {
   "cell_type": "code",
   "execution_count": null,
   "id": "8cbddbf8",
   "metadata": {},
   "outputs": [],
   "source": [
    "# Model\n",
    "xgb_reg_spec = XGBRegressor(objective='reg:squarederror', random_state=123)"
   ]
  },
  {
   "cell_type": "code",
   "execution_count": null,
   "id": "08f0c3e9",
   "metadata": {},
   "outputs": [],
   "source": [
    "# Creating a GridSearchCV to tune the hyperparameters\n",
    "xgb_reg_model =GridSearchCV(estimator=xgb_reg_spec, param_grid = dict(learning_rate = [0.01, 0.1, 0.3, 0.5]), scoring='neg_mean_absolute_error', cv = 5) "
   ]
  },
  {
   "cell_type": "code",
   "execution_count": null,
   "id": "b9e336e7",
   "metadata": {},
   "outputs": [],
   "source": [
    "# Fitting the Model\n",
    "xgb_reg_model.fit(X, y_spend)"
   ]
  },
  {
   "cell_type": "code",
   "execution_count": null,
   "id": "54ba46ce",
   "metadata": {},
   "outputs": [],
   "source": [
    "xgb_reg_model.best_score_ # NAE of the best parameters model."
   ]
  },
  {
   "cell_type": "code",
   "execution_count": null,
   "id": "b8599d8a",
   "metadata": {},
   "outputs": [],
   "source": [
    "xgb_reg_model.best_params_ # best Hyperparameter value"
   ]
  },
  {
   "cell_type": "code",
   "execution_count": null,
   "id": "6bbae6e9",
   "metadata": {},
   "outputs": [],
   "source": [
    "predictions_xgb_reg_model = xgb_reg_model.predict(X) # Prediction"
   ]
  },
  {
   "cell_type": "code",
   "execution_count": null,
   "id": "56afb1c6",
   "metadata": {},
   "outputs": [],
   "source": [
    "# Merging the predictions to the data.\n",
    "XGB_PRED_DATA = pd.DataFrame({\"prediction_xgb\" : predictions_xgb_reg_model.tolist()}).merge(X.reset_index(),left_index=True, right_index=True)\n",
    "XGB_PRED_DATA.head()"
   ]
  },
  {
   "cell_type": "code",
   "execution_count": null,
   "id": "78b00819",
   "metadata": {},
   "outputs": [],
   "source": [
    "XGB_PRED_DATA.to_csv(\"XGB_reg_prediction.csv\") # Writing the predictions to a csv"
   ]
  },
  {
   "cell_type": "markdown",
   "id": "1fb48afb",
   "metadata": {},
   "source": [
    "### Linear Regression"
   ]
  },
  {
   "cell_type": "code",
   "execution_count": null,
   "id": "64a7afc5",
   "metadata": {},
   "outputs": [],
   "source": [
    "lr = LinearRegression() # Model"
   ]
  },
  {
   "cell_type": "code",
   "execution_count": null,
   "id": "3aaf4f80",
   "metadata": {},
   "outputs": [],
   "source": [
    "parameters = {'fit_intercept':[True,False],  'copy_X':[True, False]} # Hyper parameters.\n",
    "lr_reg_model = GridSearchCV(lr,parameters, cv=5, scoring='neg_mean_absolute_error')\n",
    "lr_reg_model.fit(X, y_spend)"
   ]
  },
  {
   "cell_type": "code",
   "execution_count": null,
   "id": "ca55c664",
   "metadata": {},
   "outputs": [],
   "source": [
    "lr_reg_model.best_score_ # NAE of the best parameters model."
   ]
  },
  {
   "cell_type": "code",
   "execution_count": null,
   "id": "1455bd09",
   "metadata": {},
   "outputs": [],
   "source": [
    "lr_reg_model.best_params_ # best Hyperparameter value"
   ]
  },
  {
   "cell_type": "code",
   "execution_count": null,
   "id": "33a64f39",
   "metadata": {},
   "outputs": [],
   "source": [
    "predictions_lr_reg_model = lr_reg_model.predict(X) # Prediction"
   ]
  },
  {
   "cell_type": "code",
   "execution_count": null,
   "id": "1b1dd6cc",
   "metadata": {},
   "outputs": [],
   "source": [
    "# Merging the prediction to the X data.\n",
    "LINEAR_REGRESSION_PRED_DATA = pd.DataFrame({\"prediction_lr\" : predictions_lr_reg_model.tolist()}).merge(X.reset_index(),left_index=True, right_index=True)"
   ]
  },
  {
   "cell_type": "code",
   "execution_count": null,
   "id": "819a6d8a",
   "metadata": {},
   "outputs": [],
   "source": [
    "LINEAR_REGRESSION_PRED_DATA.to_csv(\"lr_reg_prediction.csv\") # Predictions to CSV"
   ]
  },
  {
   "cell_type": "markdown",
   "id": "51b7a4ed",
   "metadata": {},
   "source": [
    "# Random Forest Regression"
   ]
  },
  {
   "cell_type": "code",
   "execution_count": null,
   "id": "7d2cbf20",
   "metadata": {},
   "outputs": [],
   "source": [
    "# Hyper Parameters\n",
    "param_grid = dict(n_estimators = [10, 20, 50, 100, 500, 1000], max_depth = [2, 5], max_features = ['auto', 'sqrt', 'log2'])"
   ]
  },
  {
   "cell_type": "code",
   "execution_count": null,
   "id": "bc94ec65",
   "metadata": {},
   "outputs": [],
   "source": [
    "rf = RandomForestRegressor() # model\n",
    "rf_regressor =GridSearchCV(estimator=rf, param_grid = param_grid, scoring='neg_mean_absolute_error', refit= True, cv = 5) "
   ]
  },
  {
   "cell_type": "code",
   "execution_count": null,
   "id": "cf659104",
   "metadata": {},
   "outputs": [],
   "source": [
    "rf_regressor.fit(X, y_spend) #fitting the data"
   ]
  },
  {
   "cell_type": "code",
   "execution_count": null,
   "id": "d12afae2",
   "metadata": {},
   "outputs": [],
   "source": [
    "rf_regressor.best_score_ # NAE of the best model."
   ]
  },
  {
   "cell_type": "code",
   "execution_count": null,
   "id": "68be9165",
   "metadata": {},
   "outputs": [],
   "source": [
    "rf_regressor.best_params_ # Best hyper parameters."
   ]
  },
  {
   "cell_type": "code",
   "execution_count": null,
   "id": "8d07cec6",
   "metadata": {},
   "outputs": [],
   "source": [
    "rf_regressor.best_estimator_"
   ]
  },
  {
   "cell_type": "code",
   "execution_count": null,
   "id": "d9089aa4",
   "metadata": {},
   "outputs": [],
   "source": [
    "predictions_rf_reg_model = rf_regressor.predict(X) # Prediction"
   ]
  },
  {
   "cell_type": "code",
   "execution_count": null,
   "id": "cc27e4b5",
   "metadata": {},
   "outputs": [],
   "source": [
    "# Mergeing the prediction with X data\n",
    "RF_REGRESSION_PRED_DATA = pd.DataFrame({\"prediction_rf\" : predictions_rf_reg_model.tolist()}).merge(X.reset_index(),left_index=True, right_index=True)"
   ]
  },
  {
   "cell_type": "code",
   "execution_count": null,
   "id": "8898f415",
   "metadata": {},
   "outputs": [],
   "source": [
    "RF_REGRESSION_PRED_DATA.to_csv(\"rf_reg_prediction.csv\") # Storing the Prediction data in a csv."
   ]
  },
  {
   "cell_type": "markdown",
   "id": "371f0d7e",
   "metadata": {},
   "source": [
    "### Classification\n",
    "> Will a customer make a purchase in next 90 days"
   ]
  },
  {
   "cell_type": "code",
   "execution_count": null,
   "id": "532bd044",
   "metadata": {},
   "outputs": [],
   "source": [
    "# Next 90 days spend probability\n",
    "y_prob = features_df['spend_90_flag']"
   ]
  },
  {
   "cell_type": "code",
   "execution_count": null,
   "id": "336fd923",
   "metadata": {},
   "outputs": [],
   "source": [
    "xgb_clf_spec = XGBClassifier(objective='binary:logistic', random_state= 123) # model"
   ]
  },
  {
   "cell_type": "code",
   "execution_count": null,
   "id": "40f4f26c",
   "metadata": {},
   "outputs": [],
   "source": [
    "xgb_clf_model =GridSearchCV(estimator=xgb_clf_spec, param_grid = dict(learning_rate = [0.01, 0.1, 0.3, 0.5]), scoring='roc_auc', refit= True, cv = 5) "
   ]
  },
  {
   "cell_type": "code",
   "execution_count": null,
   "id": "2607ef9a",
   "metadata": {},
   "outputs": [],
   "source": [
    "xgb_clf_model.fit(X, y_prob) # Fitting the data"
   ]
  },
  {
   "cell_type": "code",
   "execution_count": null,
   "id": "81c86071",
   "metadata": {},
   "outputs": [],
   "source": [
    "xgb_clf_model.best_score_ # AUC score of the best model"
   ]
  },
  {
   "cell_type": "code",
   "execution_count": null,
   "id": "eec93069",
   "metadata": {},
   "outputs": [],
   "source": [
    "xgb_clf_model.best_params_ # Best Hyperparameter Values"
   ]
  },
  {
   "cell_type": "code",
   "execution_count": null,
   "id": "004909b0",
   "metadata": {},
   "outputs": [],
   "source": [
    "# Storing the prediction values in a dataframe\n",
    "XGB_CLASSIFICATION_PRED_DATA = pd.DataFrame(xgb_clf_model.predict_proba(X),columns=['prediction_xgb_clf_0','prediction_xgb_clf_1']).merge(X.reset_index(),left_index=True, right_index=True)\n",
    "XGB_CLASSIFICATION_PRED_DATA.head()"
   ]
  },
  {
   "cell_type": "code",
   "execution_count": null,
   "id": "56150c62",
   "metadata": {},
   "outputs": [],
   "source": [
    "XGB_CLASSIFICATION_PRED_DATA.to_csv(\"xgb_clf_prediction.csv\") # Predictions to csv"
   ]
  },
  {
   "cell_type": "markdown",
   "id": "60095800",
   "metadata": {},
   "source": [
    "### Logistic Regression"
   ]
  },
  {
   "cell_type": "code",
   "execution_count": null,
   "id": "a9ac0b0b",
   "metadata": {},
   "outputs": [],
   "source": [
    "parameters = {'penalty': [\"l1\", \"l2\"], 'solver': [\"liblinear\",\"saga\"]} # Hyper parameters\n",
    "\n",
    "logr = LogisticRegression() # model\n",
    "logr_clf_model = GridSearchCV(logr,parameters, cv=5, scoring='accuracy')\n",
    "logr_clf_model.fit(X, y_prob) #fitting"
   ]
  },
  {
   "cell_type": "code",
   "execution_count": null,
   "id": "d31c5018",
   "metadata": {},
   "outputs": [],
   "source": [
    "logr_clf_model.best_params_ # Best Hyperparameters"
   ]
  },
  {
   "cell_type": "code",
   "execution_count": null,
   "id": "0e19ba11",
   "metadata": {},
   "outputs": [],
   "source": [
    "logr_clf_model.best_score_ # AUC score of the best model"
   ]
  },
  {
   "cell_type": "code",
   "execution_count": null,
   "id": "9dea94fa",
   "metadata": {},
   "outputs": [],
   "source": [
    "# Storing the prediction values in a dataframe with X data\n",
    "LOGISTIC_CLASSIFICATION_PRED_DATA = pd.DataFrame(logr_clf_model.predict_proba(X),columns=['prediction_log_clf_0','prediction_log_clf_1']).merge(X.reset_index(),left_index=True, right_index=True)\n",
    "LOGISTIC_CLASSIFICATION_PRED_DATA.head()"
   ]
  },
  {
   "cell_type": "code",
   "execution_count": null,
   "id": "aacf76e8",
   "metadata": {},
   "outputs": [],
   "source": [
    "LOGISTIC_CLASSIFICATION_PRED_DATA.to_csv(\"log_clf_prediction.csv\") # Prediction to csv."
   ]
  },
  {
   "cell_type": "markdown",
   "id": "313cc618",
   "metadata": {},
   "source": [
    "### RANDOM FOREST CLASSIFICATION"
   ]
  },
  {
   "cell_type": "code",
   "execution_count": null,
   "id": "ef2a92d2",
   "metadata": {},
   "outputs": [],
   "source": [
    "#Hyper Parameters\n",
    "parameters = { 'max_depth' : [2, 5], 'n_estimators' : [10, 20, 50, 100, 500, 1000],'max_features' : ['auto', 'sqrt', 'log2']}\n",
    "\n",
    "rfc = RandomForestClassifier() # mdoel\n",
    "rfc_clf_model = GridSearchCV(rfc, parameters, cv=5, scoring='roc_auc') \n",
    "rfc_clf_model.fit(X, y_prob) # fitting the data"
   ]
  },
  {
   "cell_type": "code",
   "execution_count": null,
   "id": "22316aae",
   "metadata": {},
   "outputs": [],
   "source": [
    "rfc_clf_model.best_params_ # Best parameters"
   ]
  },
  {
   "cell_type": "code",
   "execution_count": null,
   "id": "a0cbbbe4",
   "metadata": {},
   "outputs": [],
   "source": [
    "rfc_clf_model.best_score_ # AUC score of the best model."
   ]
  },
  {
   "cell_type": "code",
   "execution_count": null,
   "id": "bbf35e69",
   "metadata": {},
   "outputs": [],
   "source": [
    "# Storing the prediction values\n",
    "RF_CLASSIFICATION_PRED_DATA = pd.DataFrame(rfc_clf_model.predict_proba(X),columns=['prediction_rf_clf_0','prediction_rf_clf_1']).merge(X.reset_index(),left_index=True, right_index=True)\n",
    "RF_CLASSIFICATION_PRED_DATA.head()"
   ]
  },
  {
   "cell_type": "code",
   "execution_count": null,
   "id": "6307734d",
   "metadata": {},
   "outputs": [],
   "source": [
    "RF_CLASSIFICATION_PRED_DATA.to_csv(\"rf_clf_prediction.csv\") # Predictions to csv."
   ]
  },
  {
   "cell_type": "markdown",
   "id": "4c136109",
   "metadata": {},
   "source": [
    "### Feature importance"
   ]
  },
  {
   "cell_type": "code",
   "execution_count": null,
   "id": "685d79fd",
   "metadata": {},
   "outputs": [],
   "source": [
    "#importance | spend amount model\n",
    "\n",
    "imp_spend_amount_dict = xgb_reg_model.best_estimator_.get_booster().get_score(importance_type = 'gain')"
   ]
  },
  {
   "cell_type": "code",
   "execution_count": null,
   "id": "f8afc2e5",
   "metadata": {},
   "outputs": [],
   "source": [
    "imp_spend_amount_df = pd.DataFrame(data = {'feature': list(imp_spend_amount_dict.keys()), \n",
    "                                  'value': list(imp_spend_amount_dict.values())}).assign(feature = lambda x : cat.cat_reorder(x['feature'], x['value']))"
   ]
  },
  {
   "cell_type": "code",
   "execution_count": null,
   "id": "5239b8ec",
   "metadata": {},
   "outputs": [],
   "source": [
    "imp_spend_amount_df"
   ]
  },
  {
   "cell_type": "code",
   "execution_count": null,
   "id": "e62f1431",
   "metadata": {},
   "outputs": [],
   "source": [
    "pn.ggplot(pn.aes('feature', 'value'), data = imp_spend_amount_df) + pn.geom_col() + pn.coord_flip() #plot of feature importance."
   ]
  },
  {
   "cell_type": "code",
   "execution_count": null,
   "id": "7fd9f180",
   "metadata": {},
   "outputs": [],
   "source": [
    "# Importance | Spend probability model\n",
    "imp_spend_prob_dict = xgb_clf_model.best_estimator_.get_booster().get_score(importance_type = 'gain')"
   ]
  },
  {
   "cell_type": "code",
   "execution_count": null,
   "id": "775260be",
   "metadata": {},
   "outputs": [],
   "source": [
    "imp_spend_prob_df = pd.DataFrame(data = {'feature': list(imp_spend_prob_dict.keys()), \n",
    "                                   'value': list(imp_spend_prob_dict.values())}).assign(feature = lambda x : cat.cat_reorder(x['feature'], x['value']))"
   ]
  },
  {
   "cell_type": "code",
   "execution_count": null,
   "id": "e89177ba",
   "metadata": {},
   "outputs": [],
   "source": [
    "pn.ggplot(pn.aes('feature', 'value'), data = imp_spend_prob_df) + pn.geom_col() + pn.coord_flip() #plot of feature importance."
   ]
  },
  {
   "cell_type": "markdown",
   "id": "9ecce502",
   "metadata": {},
   "source": [
    "# CLV Mathematically"
   ]
  },
  {
   "cell_type": "code",
   "execution_count": null,
   "id": "39f1af42",
   "metadata": {},
   "outputs": [],
   "source": [
    "# Creating a customer level dataframe\n",
    "customer_level_data = CDNOW_DATA.groupby(\"CustomerID\").aggregate({\"TransactionDate\": lambda x: (x.max() - x.min()).days,\n",
    "                                                              \"CustomerID\": lambda x: len(x),\n",
    "                                                   \"Price\" : lambda x: x.sum()})\n",
    "customer_level_data.columns = ['num_days', 'num_transactions', 'spent_money']\n",
    "customer_level_data.head()"
   ]
  },
  {
   "cell_type": "markdown",
   "id": "3569d476",
   "metadata": {},
   "source": [
    "### AVG_ORDER_VALUE"
   ]
  },
  {
   "cell_type": "code",
   "execution_count": null,
   "id": "1f439354",
   "metadata": {},
   "outputs": [],
   "source": [
    "#Calculating the average order value for each customer\n",
    "customer_level_data['avg_order_value']=customer_level_data['spent_money']/customer_level_data['num_transactions']\n",
    "customer_level_data.head()"
   ]
  },
  {
   "cell_type": "markdown",
   "id": "400f864e",
   "metadata": {},
   "source": [
    "### PURCHASE FREQUNECY\n"
   ]
  },
  {
   "cell_type": "code",
   "execution_count": null,
   "id": "60a103ff",
   "metadata": {},
   "outputs": [],
   "source": [
    "purchase_frequency=sum(customer_level_data['num_transactions'])/customer_level_data.shape[0]\n",
    "purchase_frequency"
   ]
  },
  {
   "cell_type": "markdown",
   "id": "72cf2593",
   "metadata": {},
   "source": [
    "### REPEAT RATE"
   ]
  },
  {
   "cell_type": "code",
   "execution_count": null,
   "id": "82f9826f",
   "metadata": {},
   "outputs": [],
   "source": [
    "# Repeat Rate\n",
    "repeat_rate=customer_level_data[customer_level_data.num_transactions > 1].shape[0]/customer_level_data.shape[0]\n",
    "repeat_rate"
   ]
  },
  {
   "cell_type": "markdown",
   "id": "8c8cfa38",
   "metadata": {},
   "source": [
    "### CHURN"
   ]
  },
  {
   "cell_type": "code",
   "execution_count": null,
   "id": "0ca5f955",
   "metadata": {},
   "outputs": [],
   "source": [
    "#Churn Rate\n",
    "churn_rate=1-repeat_rate\n",
    "churn_rate"
   ]
  },
  {
   "cell_type": "code",
   "execution_count": null,
   "id": "a736a432",
   "metadata": {},
   "outputs": [],
   "source": [
    "purchase_frequency,repeat_rate,churn_rate"
   ]
  },
  {
   "cell_type": "markdown",
   "id": "52931856",
   "metadata": {},
   "source": [
    "### PROFIT"
   ]
  },
  {
   "cell_type": "code",
   "execution_count": null,
   "id": "92d2ac1b",
   "metadata": {},
   "outputs": [],
   "source": [
    "# Assuming profit marging to be of 5%\n",
    "customer_level_data[\"profit\"] = customer_level_data[\"spent_money\"]* 0.05\n",
    "customer_level_data.head()"
   ]
  },
  {
   "cell_type": "markdown",
   "id": "11e0c7b5",
   "metadata": {},
   "source": [
    "### CLV"
   ]
  },
  {
   "cell_type": "code",
   "execution_count": null,
   "id": "3a60938b",
   "metadata": {},
   "outputs": [],
   "source": [
    "# CLV\n",
    "customer_level_data['CLV']=(customer_level_data['avg_order_value']*purchase_frequency)/churn_rate"
   ]
  },
  {
   "cell_type": "markdown",
   "id": "aeaa6cd5",
   "metadata": {},
   "source": [
    "### CLTV"
   ]
  },
  {
   "cell_type": "code",
   "execution_count": null,
   "id": "279ddb7d",
   "metadata": {},
   "outputs": [],
   "source": [
    "customer_level_data['cust_lifetime_value']=customer_level_data['CLV']*customer_level_data['profit']\n",
    "customer_level_data.head()"
   ]
  },
  {
   "cell_type": "code",
   "execution_count": null,
   "id": "82199d01",
   "metadata": {},
   "outputs": [],
   "source": [
    "cdnow = CDNOW_DATA.copy()\n",
    "\n",
    "cdnow['month_yr'] = cdnow['TransactionDate'].apply(lambda x: x.strftime('%b-%Y'))\n",
    "cdnow.head()"
   ]
  },
  {
   "cell_type": "code",
   "execution_count": null,
   "id": "5971b28f",
   "metadata": {
    "scrolled": true
   },
   "outputs": [],
   "source": [
    "sale=cdnow.pivot_table(index=['CustomerID'],columns=['month_yr'],values='Price',aggfunc='sum',fill_value=0).reset_index()\n",
    "sale.head()\n"
   ]
  },
  {
   "cell_type": "code",
   "execution_count": null,
   "id": "13e3bdb9",
   "metadata": {},
   "outputs": [],
   "source": [
    "sale['CLV']=sale.iloc[:,2:].sum(axis=1)\n",
    "sale.head()"
   ]
  },
  {
   "cell_type": "code",
   "execution_count": null,
   "id": "74635eac",
   "metadata": {},
   "outputs": [],
   "source": [
    "cdnow[\"TransactionDate\"].max()"
   ]
  },
  {
   "cell_type": "markdown",
   "id": "0e0643c6",
   "metadata": {},
   "source": [
    "# CLV prediction based on the latest 6 month sales data:\n",
    "\n",
    ">Predictive modeling on the customer lifetime value instead of the sales expected in next 90 days"
   ]
  },
  {
   "cell_type": "code",
   "execution_count": null,
   "id": "be75b7b5",
   "metadata": {},
   "outputs": [],
   "source": [
    "# Selecting features as the latest 6 month data\n",
    "\n",
    "X2=sale[['Jan-1998','Feb-1998', 'Mar-1998','Apr-1998','May-1998','Jun-1998']]\n",
    "y=sale[['CLV']]"
   ]
  },
  {
   "cell_type": "markdown",
   "id": "5a0b4bff",
   "metadata": {},
   "source": [
    "### XGBOOST"
   ]
  },
  {
   "cell_type": "code",
   "execution_count": null,
   "id": "cdc3f239",
   "metadata": {},
   "outputs": [],
   "source": [
    "xgb = XGBRegressor(objective='reg:squarederror', random_state = 123) #model"
   ]
  },
  {
   "cell_type": "code",
   "execution_count": null,
   "id": "8983d650",
   "metadata": {},
   "outputs": [],
   "source": [
    "# GridSearch with all the hyperparameters\n",
    "xgb =GridSearchCV(estimator=xgb, param_grid = dict(learning_rate = [0.01, 0.1, 0.3, 0.5]), scoring='neg_mean_absolute_error', refit= True, cv = 5)"
   ]
  },
  {
   "cell_type": "code",
   "execution_count": null,
   "id": "026d92d7",
   "metadata": {},
   "outputs": [],
   "source": [
    "xgb.fit(X2, y) # Fitting the data"
   ]
  },
  {
   "cell_type": "code",
   "execution_count": null,
   "id": "7bc61565",
   "metadata": {},
   "outputs": [],
   "source": [
    "xgb.best_score_ # NAE for the best model"
   ]
  },
  {
   "cell_type": "code",
   "execution_count": null,
   "id": "1351fa1a",
   "metadata": {},
   "outputs": [],
   "source": [
    "xgb.best_params_ # Hyper parameters for the best model"
   ]
  },
  {
   "cell_type": "code",
   "execution_count": null,
   "id": "1f86173f",
   "metadata": {},
   "outputs": [],
   "source": [
    "predictions_xgb_reg_6model = xgb.predict(X2) # prediction"
   ]
  },
  {
   "cell_type": "code",
   "execution_count": null,
   "id": "2b33b677",
   "metadata": {},
   "outputs": [],
   "source": [
    "XGBOOST_6M_REG = pd.DataFrame({\"prediction_xgb_6m\" : predictions_xgb_reg_6model.tolist()}).merge(X2,left_index=True, right_index=True).merge(sale[\"CustomerID\"],left_index=True, right_index=True)"
   ]
  },
  {
   "cell_type": "code",
   "execution_count": null,
   "id": "cf0fa7cb",
   "metadata": {},
   "outputs": [],
   "source": [
    "XGBOOST_6M_REG.to_csv(\"XGB_reg_6m_prediction.csv\") # Prediction to csv."
   ]
  },
  {
   "cell_type": "markdown",
   "id": "94859916",
   "metadata": {},
   "source": [
    "### Linear Regression"
   ]
  },
  {
   "cell_type": "code",
   "execution_count": null,
   "id": "b36f4c5b",
   "metadata": {},
   "outputs": [],
   "source": [
    "lr = LinearRegression()"
   ]
  },
  {
   "cell_type": "code",
   "execution_count": null,
   "id": "f6f3f8df",
   "metadata": {},
   "outputs": [],
   "source": [
    "parameters = {'fit_intercept':[True,False],  'copy_X':[True, False]} # Hyperparameters\n",
    "lr_reg_model = GridSearchCV(lr,parameters, cv=5, scoring='neg_mean_absolute_error')\n",
    "lr_reg_model.fit(X2, y) #fittig the data"
   ]
  },
  {
   "cell_type": "code",
   "execution_count": null,
   "id": "ac8b54c6",
   "metadata": {},
   "outputs": [],
   "source": [
    "lr_reg_model.best_score_ # NAE for the best model"
   ]
  },
  {
   "cell_type": "code",
   "execution_count": null,
   "id": "1ea6282d",
   "metadata": {},
   "outputs": [],
   "source": [
    "lr_reg_model.best_params_ # Hyperparameters for the best model."
   ]
  },
  {
   "cell_type": "code",
   "execution_count": null,
   "id": "f437a382",
   "metadata": {},
   "outputs": [],
   "source": [
    "predictions_lr_reg_6model = lr_reg_model.predict(X2).reshape(-1)\n",
    "predictions_lr_reg_6model"
   ]
  },
  {
   "cell_type": "code",
   "execution_count": null,
   "id": "90e4cc1c",
   "metadata": {},
   "outputs": [],
   "source": [
    "# Storing the prediction in a dataframe.\n",
    "LinearReg_6M_REG = pd.DataFrame({\"prediction_lr_6m\" : predictions_lr_reg_6model.tolist()}).merge(X2,left_index=True, right_index=True).merge(sale[\"CustomerID\"],left_index=True, right_index=True)"
   ]
  },
  {
   "cell_type": "code",
   "execution_count": null,
   "id": "8941a34e",
   "metadata": {},
   "outputs": [],
   "source": [
    "LinearReg_6M_REG.to_csv(\"lr_reg_6m_prediction.csv\")# Prediction to csv."
   ]
  },
  {
   "cell_type": "markdown",
   "id": "eccf3a07",
   "metadata": {},
   "source": [
    "### Random Forest Regression"
   ]
  },
  {
   "cell_type": "code",
   "execution_count": null,
   "id": "6794f317",
   "metadata": {},
   "outputs": [],
   "source": [
    "rf = RandomForestRegressor() # Model\n",
    "rf_regressor =GridSearchCV(estimator=rf, param_grid = param_grid, scoring='neg_mean_absolute_error', refit= True, cv = 5) "
   ]
  },
  {
   "cell_type": "code",
   "execution_count": null,
   "id": "775c879a",
   "metadata": {},
   "outputs": [],
   "source": [
    "rf_regressor.fit(X2, y.values.ravel()) # fitting the data"
   ]
  },
  {
   "cell_type": "code",
   "execution_count": null,
   "id": "14ce3c65",
   "metadata": {},
   "outputs": [],
   "source": [
    "rf_regressor.best_score_ # NAE for the best model"
   ]
  },
  {
   "cell_type": "code",
   "execution_count": null,
   "id": "8240410a",
   "metadata": {},
   "outputs": [],
   "source": [
    "predictions_rf_reg_6model = rf_regressor.predict(X2) # Prediction"
   ]
  },
  {
   "cell_type": "code",
   "execution_count": null,
   "id": "d73b82ad",
   "metadata": {},
   "outputs": [],
   "source": [
    "RFReg_6M_REG = pd.DataFrame({\"prediction_rf_6m\" : predictions_rf_reg_6model.tolist()}).merge(X2,left_index=True, right_index=True).merge(sale[\"CustomerID\"],left_index=True, right_index=True)"
   ]
  },
  {
   "cell_type": "code",
   "execution_count": null,
   "id": "a9f80dcb",
   "metadata": {},
   "outputs": [],
   "source": [
    "RFReg_6M_REG.to_csv(\"rf_reg_6m_prediction.csv\")# Prediction to csv."
   ]
  }
 ],
 "metadata": {
  "kernelspec": {
   "display_name": "Python 3",
   "language": "python",
   "name": "python3"
  },
  "language_info": {
   "codemirror_mode": {
    "name": "ipython",
    "version": 3
   },
   "file_extension": ".py",
   "mimetype": "text/x-python",
   "name": "python",
   "nbconvert_exporter": "python",
   "pygments_lexer": "ipython3",
   "version": "3.8.8"
  }
 },
 "nbformat": 4,
 "nbformat_minor": 5
}
